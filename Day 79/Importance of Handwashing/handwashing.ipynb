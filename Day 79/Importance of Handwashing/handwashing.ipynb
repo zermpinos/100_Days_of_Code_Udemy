{
  "nbformat": 4,
  "nbformat_minor": 0,
  "metadata": {
    "kernelspec": {
      "display_name": "Python 3",
      "language": "python",
      "name": "python3"
    },
    "language_info": {
      "codemirror_mode": {
        "name": "ipython",
        "version": 3
      },
      "file_extension": ".py",
      "mimetype": "text/x-python",
      "name": "python",
      "nbconvert_exporter": "python",
      "pygments_lexer": "ipython3",
      "version": "3.7.9"
    },
    "colab": {
      "provenance": []
    }
  },
  "cells": [
    {
      "cell_type": "markdown",
      "metadata": {
        "id": "eL-9yKkvNr6N"
      },
      "source": [
        "### Upgrade plotly (only Google Colab Notebook)\n",
        "\n",
        "Google Colab may not be running the latest version of plotly. If you're working in Google Colab, uncomment the line below, run the cell, and restart your notebook server."
      ]
    },
    {
      "cell_type": "code",
      "metadata": {
        "id": "eEEIIlY3N0oD"
      },
      "source": [
        "%pip install --upgrade plotly"
      ],
      "execution_count": null,
      "outputs": []
    },
    {
      "cell_type": "markdown",
      "metadata": {
        "id": "nF_Ci_SA63dd"
      },
      "source": [
        "### Import Statements"
      ]
    },
    {
      "cell_type": "code",
      "metadata": {
        "id": "kNoOuCg563de"
      },
      "source": [
        "import pandas as pd\n",
        "import numpy as np\n",
        "import plotly.express as px\n",
        "import seaborn as sns\n",
        "import matplotlib.pyplot as plt\n",
        "import matplotlib.dates as mdates\n",
        "import scipy.stats as stats"
      ],
      "execution_count": 43,
      "outputs": []
    },
    {
      "cell_type": "markdown",
      "metadata": {
        "id": "PcWO2FOi63di"
      },
      "source": [
        "### Notebook Presentation"
      ]
    },
    {
      "cell_type": "code",
      "metadata": {
        "id": "YV7Y4mhp63dj"
      },
      "source": [
        "pd.options.display.float_format = '{:,.2f}'.format\n",
        "\n",
        "from pandas.plotting import register_matplotlib_converters\n",
        "register_matplotlib_converters()"
      ],
      "execution_count": 3,
      "outputs": []
    },
    {
      "cell_type": "markdown",
      "metadata": {
        "id": "rp8Dqfp663dg"
      },
      "source": [
        "### Read the Data"
      ]
    },
    {
      "cell_type": "code",
      "metadata": {
        "id": "Wdr6_0pk63dh"
      },
      "source": [
        "df_yearly = pd.read_csv('annual_deaths_by_clinic.csv')\n",
        "df_monthly = pd.read_csv('monthly_deaths.csv', parse_dates=['date'])"
      ],
      "execution_count": 5,
      "outputs": []
    },
    {
      "cell_type": "markdown",
      "metadata": {
        "id": "C8ZLkXkk63dl"
      },
      "source": [
        "# Preliminary Data Exploration"
      ]
    },
    {
      "cell_type": "code",
      "metadata": {
        "id": "CDYyshRAHySR"
      },
      "source": [
        "print(df_yearly.shape)\n",
        "df_yearly"
      ],
      "execution_count": null,
      "outputs": []
    },
    {
      "cell_type": "code",
      "metadata": {
        "id": "0CmnKF4_Hyg0"
      },
      "source": [
        "print(df_monthly.shape)\n",
        "df_monthly"
      ],
      "execution_count": null,
      "outputs": []
    },
    {
      "cell_type": "code",
      "source": [
        "print(df_yearly.info())\n",
        "print('\\n')\n",
        "print(df_monthly.info())"
      ],
      "metadata": {
        "id": "jLtQTgTqusoZ"
      },
      "execution_count": null,
      "outputs": []
    },
    {
      "cell_type": "markdown",
      "metadata": {
        "id": "yiZF9Tat63dq"
      },
      "source": [
        "### Check for Nan Values and Duplicates"
      ]
    },
    {
      "cell_type": "code",
      "metadata": {
        "id": "xdyyfk2oH0Ab"
      },
      "source": [
        "print(df_yearly.info())\n",
        "print('\\n')\n",
        "print(df_monthly.info())"
      ],
      "execution_count": null,
      "outputs": []
    },
    {
      "cell_type": "code",
      "source": [
        "print(df_yearly.duplicated().values.any())\n",
        "print(df_monthly.duplicated().values.any())"
      ],
      "metadata": {
        "id": "cnlZv9fwzALa"
      },
      "execution_count": null,
      "outputs": []
    },
    {
      "cell_type": "markdown",
      "metadata": {
        "id": "Y6RkTaM463dz"
      },
      "source": [
        "### Descriptive Statistics"
      ]
    },
    {
      "cell_type": "code",
      "metadata": {
        "id": "8emz_sBZH2GL"
      },
      "source": [
        "print(df_yearly.describe())\n",
        "print('\\n')\n",
        "print(df_monthly.describe())"
      ],
      "execution_count": null,
      "outputs": []
    },
    {
      "cell_type": "markdown",
      "metadata": {
        "id": "RzhICI3I63d3"
      },
      "source": [
        "### Percentage of Women Dying in Childbirth"
      ]
    },
    {
      "cell_type": "code",
      "metadata": {
        "id": "qWcjo7O5H3g3",
        "colab": {
          "base_uri": "https://localhost:8080/"
        },
        "outputId": "2feeb171-d7c2-4202-b376-6b8a37a30de4"
      },
      "source": [
        "prob = df_yearly.deaths.sum() / df_yearly.births.sum() * 100\n",
        "print(f'Chances of dying in the 1840s in Vienna: {prob:.3}%')"
      ],
      "execution_count": 12,
      "outputs": [
        {
          "output_type": "stream",
          "name": "stdout",
          "text": [
            "Chances of dying in the 1840s in Vienna: 7.08%\n"
          ]
        }
      ]
    },
    {
      "cell_type": "markdown",
      "metadata": {
        "id": "SSOrUkmx63d6"
      },
      "source": [
        "# Visualise the Total Number of Births 🤱 and Deaths 💀 over Time"
      ]
    },
    {
      "cell_type": "markdown",
      "metadata": {
        "id": "z88_SbNf63d6"
      },
      "source": [
        "### Plot the Monthly Data on Twin Axes"
      ]
    },
    {
      "cell_type": "code",
      "metadata": {
        "id": "pSeMQxKMH52c"
      },
      "source": [
        "plt.figure(figsize=(14,8), dpi=200)\n",
        "plt.title('Total Number of Monthly Births and Deaths', fontsize=18)\n",
        "\n",
        "ax1 = plt.gca()\n",
        "ax2 = ax1.twinx()\n",
        "\n",
        "ax1.grid(color='grey', linestyle='--')\n",
        "\n",
        "ax1.plot(df_monthly.date,\n",
        "         df_monthly.births,\n",
        "         color='skyblue',\n",
        "         linewidth=3)\n",
        "\n",
        "ax2.plot(df_monthly.date,\n",
        "         df_monthly.deaths,\n",
        "         color='crimson',\n",
        "         linewidth=2,\n",
        "         linestyle='--')\n",
        "\n",
        "plt.show()"
      ],
      "execution_count": null,
      "outputs": []
    },
    {
      "cell_type": "code",
      "metadata": {
        "id": "G9Zg86loH5a2"
      },
      "source": [
        "years = mdates.YearLocator()\n",
        "months = mdates.MonthLocator()\n",
        "years_fmt = mdates.DateFormatter('%Y')"
      ],
      "execution_count": 14,
      "outputs": []
    },
    {
      "cell_type": "code",
      "source": [
        "plt.figure(figsize=(14,8), dpi=200)\n",
        "plt.title('Total Number of Monthly Births and Deaths', fontsize=18)\n",
        "plt.yticks(fontsize=14)\n",
        "plt.xticks(fontsize=14, rotation=45)\n",
        "\n",
        "ax1 = plt.gca()\n",
        "ax2 = ax1.twinx()\n",
        "\n",
        "ax1.set_ylabel('Births', color='skyblue', fontsize=18)\n",
        "ax2.set_ylabel('Deaths', color='crimson', fontsize=18)\n",
        "\n",
        "# Use Locators\n",
        "ax1.set_xlim([df_monthly.date.min(), df_monthly.date.max()])\n",
        "ax1.xaxis.set_major_locator(years)\n",
        "ax1.xaxis.set_major_formatter(years_fmt)\n",
        "ax1.xaxis.set_minor_locator(months)\n",
        "\n",
        "ax1.grid(color='grey', linestyle='--')\n",
        "\n",
        "ax1.plot(df_monthly.date,\n",
        "         df_monthly.births,\n",
        "         color='skyblue',\n",
        "         linewidth=3)\n",
        "\n",
        "ax2.plot(df_monthly.date,\n",
        "         df_monthly.deaths,\n",
        "         color='crimson',\n",
        "         linewidth=2,\n",
        "         linestyle='--')\n",
        "\n",
        "plt.show()"
      ],
      "metadata": {
        "id": "IuyyplU_loli"
      },
      "execution_count": null,
      "outputs": []
    },
    {
      "cell_type": "markdown",
      "metadata": {
        "id": "mpg4uvsl63d9"
      },
      "source": [
        "# The Yearly Data Split by Clinic\n",
        "\n",
        "Now let's look at the annual data instead."
      ]
    },
    {
      "cell_type": "code",
      "metadata": {
        "id": "Xg65zUR8H7c2"
      },
      "source": [
        "line = px.line(df_yearly, x='year', y='births', color='clinic', title='Total Yearly Births by Clinic')\n",
        "line.show()"
      ],
      "execution_count": null,
      "outputs": []
    },
    {
      "cell_type": "code",
      "metadata": {
        "id": "4aTJqbcVH9MG"
      },
      "source": [
        "line = px.line(df_yearly, x='year', y='deaths', color='clinic', title='Total Yearly Deaths by Clinic')\n",
        "line.show()"
      ],
      "execution_count": null,
      "outputs": []
    },
    {
      "cell_type": "markdown",
      "metadata": {
        "dc": {
          "key": "2bc9206960"
        },
        "run_control": {
          "frozen": true
        },
        "tags": [
          "context"
        ],
        "id": "0M63EmW563eE"
      },
      "source": [
        "### Calculate the Proportion of Deaths at Each Clinic"
      ]
    },
    {
      "cell_type": "code",
      "metadata": {
        "id": "1His6I9tH-U7"
      },
      "source": [
        "df_yearly['pct_deaths'] = df_yearly.deaths / df_yearly.births"
      ],
      "execution_count": 19,
      "outputs": []
    },
    {
      "cell_type": "code",
      "metadata": {
        "id": "qjK489pIH-BF",
        "colab": {
          "base_uri": "https://localhost:8080/"
        },
        "outputId": "eacafff3-c1de-4fb8-ea84-f2b14c910228"
      },
      "source": [
        "clinic_1 = df_yearly[df_yearly.clinic == 'clinic 1']\n",
        "clinic_2 = df_yearly[df_yearly.clinic == 'clinic 2']\n",
        "avg_c1 = clinic_1.deaths.sum() / clinic_1.births.sum() * 100\n",
        "avg_c2 = clinic_2.deaths.sum() / clinic_2.births.sum() * 100\n",
        "print(f'Average death rate in clinic 1 is {avg_c1:.3}%.')\n",
        "print(f'Average death rate in clinic 2 is {avg_c2:.3}%.')"
      ],
      "execution_count": 22,
      "outputs": [
        {
          "output_type": "stream",
          "name": "stdout",
          "text": [
            "Average death rate in clinic 1 is 9.92%.\n",
            "Average death rate in clinic 2 is 3.88%.\n"
          ]
        }
      ]
    },
    {
      "cell_type": "markdown",
      "metadata": {
        "id": "sX47nwJMRxWR"
      },
      "source": [
        "### Plotting the Proportion of Yearly Deaths by Clinic"
      ]
    },
    {
      "cell_type": "code",
      "metadata": {
        "id": "gRxQwbovH__L"
      },
      "source": [
        "line = px.line(df_yearly, x='year', y='pct_deaths', color='clinic', title='Proportion of Yearly Deaths by Clinic')\n",
        "line.show()"
      ],
      "execution_count": null,
      "outputs": []
    },
    {
      "cell_type": "markdown",
      "metadata": {
        "dc": {
          "key": "518e95acc5"
        },
        "run_control": {
          "frozen": true
        },
        "tags": [
          "context"
        ],
        "id": "ggep-emG63eX"
      },
      "source": [
        "# The Effect of Handwashing\n",
        "\n",
        "Dr Semmelweis made handwashing obligatory in the summer of 1947. In fact, he ordered people to wash their hands with clorine (instead of water)."
      ]
    },
    {
      "cell_type": "code",
      "metadata": {
        "id": "QFN7gYTD63eX"
      },
      "source": [
        "# Date when handwashing was made mandatory\n",
        "handwashing_start = pd.to_datetime('1847-06-01')"
      ],
      "execution_count": 26,
      "outputs": []
    },
    {
      "cell_type": "code",
      "metadata": {
        "id": "Zv47y222ICFE"
      },
      "source": [
        "df_monthly['pct_deaths'] = df_monthly.deaths/df_monthly.births"
      ],
      "execution_count": 24,
      "outputs": []
    },
    {
      "cell_type": "code",
      "metadata": {
        "id": "uwVulybHIBk_"
      },
      "source": [
        "before_washing = df_monthly[df_monthly.date < handwashing_start]\n",
        "after_washing = df_monthly[df_monthly.date >= handwashing_start]"
      ],
      "execution_count": 27,
      "outputs": []
    },
    {
      "cell_type": "code",
      "source": [
        "bw_rate = before_washing.deaths.sum() / before_washing.births.sum() * 100\n",
        "aw_rate = after_washing.deaths.sum() / after_washing.births.sum() * 100\n",
        "print(f'Average death rate before 1847 was {bw_rate:.4}%')\n",
        "print(f'Average death rate after 1847 was {aw_rate:.3}%')"
      ],
      "metadata": {
        "colab": {
          "base_uri": "https://localhost:8080/"
        },
        "id": "0q8Zj8uDnXV9",
        "outputId": "3710c832-a81b-4ad6-f44f-36a8393b9de4"
      },
      "execution_count": 29,
      "outputs": [
        {
          "output_type": "stream",
          "name": "stdout",
          "text": [
            "Average death rate before 1847 was 10.53%\n",
            "Average death rate after 1847 was 2.15%\n"
          ]
        }
      ]
    },
    {
      "cell_type": "markdown",
      "metadata": {
        "id": "BgX_WAt0rcmf"
      },
      "source": [
        "### Calculate a Rolling Average of the Death Rate"
      ]
    },
    {
      "cell_type": "code",
      "metadata": {
        "id": "xh5skyLJIGJF"
      },
      "source": [
        "roll_df = before_washing.set_index('date')\n",
        "roll_df = roll_df.rolling(window=6).mean()"
      ],
      "execution_count": 30,
      "outputs": []
    },
    {
      "cell_type": "code",
      "metadata": {
        "id": "KImHv9CuIEDQ"
      },
      "source": [
        "plt.figure(figsize=(14,8), dpi=200)\n",
        "plt.title('Percentage of Monthly Deaths over Time', fontsize=18)\n",
        "plt.yticks(fontsize=14)\n",
        "plt.xticks(fontsize=14, rotation=45)\n",
        "\n",
        "plt.ylabel('Percentage of Deaths', color='crimson', fontsize=18)\n",
        "\n",
        "ax = plt.gca()\n",
        "ax.xaxis.set_major_locator(years)\n",
        "ax.xaxis.set_major_formatter(years_fmt)\n",
        "ax.xaxis.set_minor_locator(months)\n",
        "ax.set_xlim([df_monthly.date.min(), df_monthly.date.max()])\n",
        "\n",
        "plt.grid(color='grey', linestyle='--')\n",
        "\n",
        "ma_line, = plt.plot(roll_df.index, roll_df.pct_deaths, color='crimson', linewidth=3, linestyle='--', label='6m Moving Average')\n",
        "bw_line, = plt.plot(before_washing.date, before_washing.pct_deaths, color='black', linewidth=1, linestyle='--', label='Before Handwashing')\n",
        "aw_line, = plt.plot(after_washing.date, after_washing.pct_deaths, color='skyblue', linewidth=3, marker='o', label='After Handwashing')\n",
        "\n",
        "plt.legend(handles=[ma_line, bw_line, aw_line], fontsize=18)\n",
        "\n",
        "plt.show()"
      ],
      "execution_count": null,
      "outputs": []
    },
    {
      "cell_type": "markdown",
      "metadata": {
        "dc": {
          "key": "586a9f9803"
        },
        "run_control": {
          "frozen": true
        },
        "tags": [
          "context"
        ],
        "id": "FPiDMwTh63el"
      },
      "source": [
        "### Statistics - Calculate the Difference in the Average Monthly Death Rate"
      ]
    },
    {
      "cell_type": "code",
      "metadata": {
        "id": "HJMSk8xYIIGX"
      },
      "source": [
        "avg_prob_before = before_washing.pct_deaths.mean() * 100\n",
        "print(f'Chance of death during childbirth before handwashing: {avg_prob_before:.3}%.')\n",
        "\n",
        "avg_prob_after = after_washing.pct_deaths.mean() * 100\n",
        "print(f'Chance of death during childbirth after handwashing: {avg_prob_after:.2}%.')\n",
        "\n",
        "mean_diff = avg_prob_before - avg_prob_after\n",
        "print(f'Handwashing reduced the monthly proportion of deaths by {mean_diff:.3}%!')\n",
        "\n",
        "times = avg_prob_before / avg_prob_after\n",
        "print(f'This is a {times:.2}x improvement!')"
      ],
      "execution_count": null,
      "outputs": []
    },
    {
      "cell_type": "markdown",
      "metadata": {
        "id": "oqBw_uL963eh"
      },
      "source": [
        "### Use Box Plots to Show How the Death Rate Changed Before and After Handwashing\n",
        "\n"
      ]
    },
    {
      "cell_type": "code",
      "metadata": {
        "id": "RVqz63Y9IJXg"
      },
      "source": [
        "df_monthly['washing_hands'] = np.where(df_monthly.date < handwashing_start, 'No', 'Yes')"
      ],
      "execution_count": 36,
      "outputs": []
    },
    {
      "cell_type": "code",
      "metadata": {
        "id": "etNOMby-ILkv"
      },
      "source": [
        "box = px.box(df_monthly,\n",
        "             x='washing_hands',\n",
        "             y='pct_deaths',\n",
        "             color='washing_hands',\n",
        "             title='How Have the Stats Changed with Handwashing?')\n",
        "\n",
        "box.update_layout(xaxis_title='Washing Hands?',\n",
        "                  yaxis_title='Percentage of Monthly Deaths',)\n",
        "\n",
        "box.show()"
      ],
      "execution_count": null,
      "outputs": []
    },
    {
      "cell_type": "markdown",
      "metadata": {
        "id": "7CPfSdgt63en"
      },
      "source": [
        "### Use Histograms to Visualise the Monthly Distribution of Outcomes"
      ]
    },
    {
      "cell_type": "code",
      "metadata": {
        "id": "mgRoUP7NIMU9"
      },
      "source": [
        "hist = px.histogram(df_monthly,\n",
        "                   x='pct_deaths',\n",
        "                   color='washing_hands',\n",
        "                   nbins=30,\n",
        "                   opacity=0.6,\n",
        "                   barmode='overlay',\n",
        "                   histnorm='percent',\n",
        "                   marginal='box',)\n",
        "\n",
        "hist.update_layout(xaxis_title='Proportion of Monthly Deaths',\n",
        "                   yaxis_title='Count',)\n",
        "\n",
        "hist.show()"
      ],
      "execution_count": null,
      "outputs": []
    },
    {
      "cell_type": "markdown",
      "metadata": {
        "id": "6xEmXJWM63ep"
      },
      "source": [
        "### Use a Kernel Density Estimate (KDE) to visualise a smooth distribution\n"
      ]
    },
    {
      "cell_type": "code",
      "metadata": {
        "id": "MKxD_c_cINxx"
      },
      "source": [
        "plt.figure(dpi=200)\n",
        "sns.kdeplot(before_washing.pct_deaths, fill=True)\n",
        "sns.kdeplot(after_washing.pct_deaths, fill=True)\n",
        "plt.title('Est. Distribution of Monthly Death Rate Before and After Handwashing')\n",
        "plt.show()"
      ],
      "execution_count": null,
      "outputs": []
    },
    {
      "cell_type": "code",
      "metadata": {
        "id": "yV8gUkLuINmX"
      },
      "source": [
        "plt.figure(dpi=200)\n",
        "sns.kdeplot(before_washing.pct_deaths, fill=True, clip=(0,1))\n",
        "sns.kdeplot(after_washing.pct_deaths, fill=True, clip=(0,1))\n",
        "plt.title('Est. Distribution of Monthly Death Rate Before and After Handwashing')\n",
        "plt.xlim(0, 0.40)\n",
        "plt.show()"
      ],
      "execution_count": null,
      "outputs": []
    },
    {
      "cell_type": "markdown",
      "metadata": {
        "id": "F7lNXT7X63et"
      },
      "source": [
        "### Use a T-Test to Show Statistical Significance\n",
        "\n"
      ]
    },
    {
      "cell_type": "code",
      "metadata": {
        "id": "3gG5RDz_IQLJ",
        "colab": {
          "base_uri": "https://localhost:8080/"
        },
        "outputId": "e3565c88-5504-45f6-fe11-02155b330ea9"
      },
      "source": [
        "t_stat, p_value = stats.ttest_ind(a=before_washing.pct_deaths,\n",
        "                                  b=after_washing.pct_deaths)\n",
        "print(f'p-palue is {p_value:.10f}')\n",
        "print(f't-statstic is {t_stat:.4}')"
      ],
      "execution_count": 44,
      "outputs": [
        {
          "output_type": "stream",
          "name": "stdout",
          "text": [
            "p-palue is 0.0000002985\n",
            "t-statstic is 5.512\n"
          ]
        }
      ]
    }
  ]
}