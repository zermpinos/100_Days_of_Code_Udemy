{
  "nbformat": 4,
  "nbformat_minor": 0,
  "metadata": {
    "kernelspec": {
      "display_name": "Python 3",
      "language": "python",
      "name": "python3"
    },
    "language_info": {
      "codemirror_mode": {
        "name": "ipython",
        "version": 3
      },
      "file_extension": ".py",
      "mimetype": "text/x-python",
      "name": "python",
      "nbconvert_exporter": "python",
      "pygments_lexer": "ipython3",
      "version": "3.7.9"
    },
    "colab": {
      "provenance": []
    }
  },
  "cells": [
    {
      "cell_type": "markdown",
      "metadata": {
        "id": "FuDxBL8UamHp"
      },
      "source": [
        "# Setup and Context"
      ]
    },
    {
      "cell_type": "markdown",
      "metadata": {
        "id": "RaHW4kg0sZKP"
      },
      "source": [
        "### Upgrade plotly (only Google Colab Notebook)\n",
        "\n",
        "Google Colab may not be running the latest version of plotly. If you're working in Google Colab, uncomment the line below, run the cell, and restart your notebook server."
      ]
    },
    {
      "cell_type": "code",
      "metadata": {
        "id": "od8BRWbAsGxS"
      },
      "source": [
        "%pip install --upgrade plotly"
      ],
      "execution_count": null,
      "outputs": []
    },
    {
      "cell_type": "code",
      "metadata": {
        "id": "dCIwm0dLo7LL"
      },
      "source": [
        "import pandas as pd\n",
        "import numpy as np\n",
        "import plotly.express as px\n",
        "import seaborn as sns\n",
        "import matplotlib.pyplot as plt"
      ],
      "execution_count": 2,
      "outputs": []
    },
    {
      "cell_type": "code",
      "metadata": {
        "id": "RjzC6BoMo7LO"
      },
      "source": [
        "pd.options.display.float_format = '{:,.2f}'.format"
      ],
      "execution_count": 3,
      "outputs": []
    },
    {
      "cell_type": "code",
      "metadata": {
        "id": "EbVGyi7Eo7LQ"
      },
      "source": [
        "df_data = pd.read_csv('nobel_prize_data.csv')"
      ],
      "execution_count": 4,
      "outputs": []
    },
    {
      "cell_type": "code",
      "metadata": {
        "id": "4U-OQVRbFOu6"
      },
      "source": [
        "df_data.shape"
      ],
      "execution_count": null,
      "outputs": []
    },
    {
      "cell_type": "code",
      "metadata": {
        "id": "Iy6cDcXAFOsV"
      },
      "source": [
        "df_data.head()"
      ],
      "execution_count": null,
      "outputs": []
    },
    {
      "cell_type": "code",
      "source": [
        "df_data.tail()"
      ],
      "metadata": {
        "id": "wpDR5nbfR2wq"
      },
      "execution_count": null,
      "outputs": []
    },
    {
      "cell_type": "code",
      "metadata": {
        "id": "v976ftCaFRFN"
      },
      "source": [
        "print(f'Any duplicates? {df_data.duplicated().values.any()}')"
      ],
      "execution_count": null,
      "outputs": []
    },
    {
      "cell_type": "code",
      "metadata": {
        "id": "gvpa0A0OFQ4z"
      },
      "source": [
        "print(f'Any NaN values among the data? {df_data.isna().values.any()}')"
      ],
      "execution_count": null,
      "outputs": []
    },
    {
      "cell_type": "code",
      "metadata": {
        "id": "HgbI5sQNFStg"
      },
      "source": [
        "df_data.isna().sum()"
      ],
      "execution_count": null,
      "outputs": []
    },
    {
      "cell_type": "code",
      "metadata": {
        "id": "O2zgruevFSyV"
      },
      "source": [
        "col_subset = ['year','category', 'laureate_type', 'birth_date','full_name', 'organization_name']\n",
        "df_data.loc[df_data.birth_date.isna()][col_subset]"
      ],
      "execution_count": null,
      "outputs": []
    },
    {
      "cell_type": "code",
      "metadata": {
        "id": "aTU9T9xnFTQY"
      },
      "source": [
        "col_subset = ['year','category', 'laureate_type', 'full_name', 'organization_name']\n",
        "df_data.loc[df_data.organization_name.isna()][col_subset]"
      ],
      "execution_count": null,
      "outputs": []
    },
    {
      "cell_type": "code",
      "metadata": {
        "id": "Jas4fWv4Fa4_"
      },
      "source": [
        "df_data.birth_date = pd.to_datetime(df_data.birth_date)"
      ],
      "execution_count": 13,
      "outputs": []
    },
    {
      "cell_type": "code",
      "metadata": {
        "id": "4BNug19-FdHP"
      },
      "source": [
        "separated_values = df_data.prize_share.str.split('/', expand=True)\n",
        "numerator = pd.to_numeric(separated_values[0])\n",
        "denomenator = pd.to_numeric(separated_values[1])\n",
        "df_data['share_pct'] = numerator / denomenator"
      ],
      "execution_count": 14,
      "outputs": []
    },
    {
      "cell_type": "code",
      "metadata": {
        "id": "RKZXiaO1Fc9v"
      },
      "source": [
        "df_data.info()"
      ],
      "execution_count": null,
      "outputs": []
    },
    {
      "cell_type": "code",
      "metadata": {
        "id": "wxTmkQd-Ff3Q"
      },
      "source": [
        "biology = df_data.sex.value_counts()\n",
        "fig = px.pie(labels=biology.index,\n",
        "             values=biology.values,\n",
        "             title=\"Percentage of Male vs. Female Winners\",\n",
        "             names=biology.index,\n",
        "             hole=0.4,)\n",
        "\n",
        "fig.update_traces(textposition='inside', textfont_size=15, textinfo='percent')\n",
        "\n",
        "fig.show()"
      ],
      "execution_count": null,
      "outputs": []
    },
    {
      "cell_type": "code",
      "metadata": {
        "id": "nk5h-XFcFiJp"
      },
      "source": [
        "df_data[df_data.sex == 'Female'].sort_values('year', ascending=True)[:3]"
      ],
      "execution_count": null,
      "outputs": []
    },
    {
      "cell_type": "code",
      "metadata": {
        "id": "Qqf8_dWUFjpz"
      },
      "source": [
        "is_winner = df_data.duplicated(subset=['full_name'], keep=False)\n",
        "multiple_winners = df_data[is_winner]\n",
        "print(f'There are {multiple_winners.full_name.nunique()}' \\\n",
        "      ' winners who were awarded the prize more than once.')"
      ],
      "execution_count": null,
      "outputs": []
    },
    {
      "cell_type": "code",
      "metadata": {
        "id": "UuIqCxQvFjdF"
      },
      "source": [
        "col_subset = ['year', 'category', 'laureate_type', 'full_name']\n",
        "multiple_winners[col_subset]"
      ],
      "execution_count": null,
      "outputs": []
    },
    {
      "cell_type": "code",
      "metadata": {
        "id": "EjwqH7bxFm10"
      },
      "source": [
        "df_data.category.nunique()"
      ],
      "execution_count": null,
      "outputs": []
    },
    {
      "cell_type": "code",
      "metadata": {
        "id": "BhweS8X1FmuL"
      },
      "source": [
        "prizes_per_category = df_data.category.value_counts()\n",
        "v_bar = px.bar(\n",
        "        x = prizes_per_category.index,\n",
        "        y = prizes_per_category.values,\n",
        "        color = prizes_per_category.values,\n",
        "        color_continuous_scale='Aggrnyl',\n",
        "        title='Number of Prizes Awarded per Category')\n",
        "\n",
        "v_bar.update_layout(xaxis_title='Nobel Prize Category',\n",
        "                    coloraxis_showscale=False,\n",
        "                    yaxis_title='Number of Prizes')\n",
        "v_bar.show()"
      ],
      "execution_count": null,
      "outputs": []
    },
    {
      "cell_type": "code",
      "metadata": {
        "id": "ndzQ8lz6FpSG"
      },
      "source": [
        "df_data[df_data.category == 'Economics'].sort_values('year')[:3]"
      ],
      "execution_count": null,
      "outputs": []
    },
    {
      "cell_type": "code",
      "metadata": {
        "id": "5rm03TQmFrlk"
      },
      "source": [
        "cat_men_women = df_data.groupby(['category', 'sex'],\n",
        "                               as_index=False).agg({'prize': pd.Series.count})\n",
        "cat_men_women.sort_values('prize', ascending=False, inplace=True)"
      ],
      "execution_count": 24,
      "outputs": []
    },
    {
      "cell_type": "code",
      "metadata": {
        "id": "XTrMUbBmFroT"
      },
      "source": [
        "v_bar_split = px.bar(x = cat_men_women.category,\n",
        "                     y = cat_men_women.prize,\n",
        "                     color = cat_men_women.sex,\n",
        "                     title='Number of Prizes Awarded per Category split by Men and Women')\n",
        "\n",
        "v_bar_split.update_layout(xaxis_title='Nobel Prize Category',\n",
        "                          yaxis_title='Number of Prizes')\n",
        "v_bar_split.show()"
      ],
      "execution_count": null,
      "outputs": []
    },
    {
      "cell_type": "code",
      "metadata": {
        "id": "gD316Xp5Ftsj"
      },
      "source": [
        "prize_per_year = df_data.groupby(by='year').count().prize"
      ],
      "execution_count": 26,
      "outputs": []
    },
    {
      "cell_type": "code",
      "metadata": {
        "id": "Jjm3G7VHFtx1"
      },
      "source": [
        "moving_average = prize_per_year.rolling(window=5).mean()"
      ],
      "execution_count": 27,
      "outputs": []
    },
    {
      "cell_type": "code",
      "metadata": {
        "id": "NgVzgknLFtvP"
      },
      "source": [
        "plt.scatter(x=prize_per_year.index,\n",
        "           y=prize_per_year.values,\n",
        "           c='dodgerblue',\n",
        "           alpha=0.7,\n",
        "           s=100,)\n",
        "\n",
        "plt.plot(prize_per_year.index,\n",
        "        moving_average.values,\n",
        "        c='crimson',\n",
        "        linewidth=3,)\n",
        "\n",
        "plt.show()"
      ],
      "execution_count": null,
      "outputs": []
    },
    {
      "cell_type": "code",
      "metadata": {
        "id": "mWQImXL3FtkO"
      },
      "source": [
        "np.arange(1900, 2021, step=5)"
      ],
      "execution_count": null,
      "outputs": []
    },
    {
      "cell_type": "code",
      "source": [
        "plt.figure(figsize=(16,8), dpi=200)\n",
        "plt.title('Number of Nobel Prizes Awarded per Year', fontsize=18)\n",
        "plt.yticks(fontsize=14)\n",
        "plt.xticks(ticks=np.arange(1900, 2021, step=5),\n",
        "           fontsize=14,\n",
        "           rotation=45)\n",
        "\n",
        "ax = plt.gca()\n",
        "ax.set_xlim(1900, 2020)\n",
        "\n",
        "ax.scatter(x=prize_per_year.index,\n",
        "           y=prize_per_year.values,\n",
        "           c='dodgerblue',\n",
        "           alpha=0.7,\n",
        "           s=100,)\n",
        "\n",
        "ax.plot(prize_per_year.index,\n",
        "        moving_average.values,\n",
        "        c='crimson',\n",
        "        linewidth=3,)\n",
        "\n",
        "plt.show()"
      ],
      "metadata": {
        "id": "iD8tScEGWfSy"
      },
      "execution_count": null,
      "outputs": []
    },
    {
      "cell_type": "code",
      "metadata": {
        "id": "If8-ZFoOFwph"
      },
      "source": [
        "yearly_avg_share = df_data.groupby(by='year').agg({'share_pct': pd.Series.mean})\n",
        "share_moving_average = yearly_avg_share.rolling(window=5).mean()"
      ],
      "execution_count": 32,
      "outputs": []
    },
    {
      "cell_type": "code",
      "metadata": {
        "id": "QRen05_6Fw0y"
      },
      "source": [
        "plt.figure(figsize=(16,8), dpi=200)\n",
        "plt.title('Number of Nobel Prizes Awarded per Year', fontsize=18)\n",
        "plt.yticks(fontsize=14)\n",
        "plt.xticks(ticks=np.arange(1900, 2021, step=5),\n",
        "           fontsize=14,\n",
        "           rotation=45)\n",
        "\n",
        "ax1 = plt.gca()\n",
        "ax2 = ax1.twinx()\n",
        "ax1.set_xlim(1900, 2020)\n",
        "\n",
        "ax1.scatter(x=prize_per_year.index,\n",
        "           y=prize_per_year.values,\n",
        "           c='dodgerblue',\n",
        "           alpha=0.7,\n",
        "           s=100,)\n",
        "\n",
        "ax1.plot(prize_per_year.index,\n",
        "        moving_average.values,\n",
        "        c='crimson',\n",
        "        linewidth=3,)\n",
        "\n",
        "ax2.plot(prize_per_year.index,\n",
        "        share_moving_average.values,\n",
        "        c='grey',\n",
        "        linewidth=3,)\n",
        "\n",
        "plt.show()"
      ],
      "execution_count": null,
      "outputs": []
    },
    {
      "cell_type": "code",
      "metadata": {
        "id": "4kLSGNPkFxPd"
      },
      "source": [
        "plt.figure(figsize=(16,8), dpi=200)\n",
        "plt.title('Number of Nobel Prizes Awarded per Year', fontsize=18)\n",
        "plt.yticks(fontsize=14)\n",
        "plt.xticks(ticks=np.arange(1900, 2021, step=5), fontsize=14, rotation=45)\n",
        "\n",
        "ax1 = plt.gca()\n",
        "ax2 = ax1.twinx()\n",
        "ax1.set_xlim(1900, 2020)\n",
        "\n",
        "ax2.invert_yaxis()\n",
        "\n",
        "ax1.scatter(x=prize_per_year.index, y=prize_per_year.values, c='dodgerblue', alpha=0.7, s=100)\n",
        "\n",
        "ax1.plot(prize_per_year.index, moving_average.values, c='crimson', linewidth=3)\n",
        "\n",
        "ax2.plot(prize_per_year.index, share_moving_average.values, c='grey', linewidth=3)\n",
        "\n",
        "plt.show()"
      ],
      "execution_count": null,
      "outputs": []
    },
    {
      "cell_type": "code",
      "metadata": {
        "id": "cscYI4BvFzjC"
      },
      "source": [
        "top_countries = df_data.groupby(['birth_country_current'],\n",
        "                                  as_index=False).agg({'prize': pd.Series.count})\n",
        "\n",
        "top_countries.sort_values(by='prize', inplace=True)\n",
        "top20_countries = top_countries[-20:]"
      ],
      "execution_count": 37,
      "outputs": []
    },
    {
      "cell_type": "code",
      "metadata": {
        "id": "Zl2rqcVKFz9P"
      },
      "source": [
        "h_bar = px.bar(x=top20_countries.prize,\n",
        "               y=top20_countries.birth_country_current,\n",
        "               orientation='h',\n",
        "               color=top20_countries.prize,\n",
        "               color_continuous_scale='Viridis',\n",
        "               title='Top 20 Countries by Number of Prizes')\n",
        "\n",
        "h_bar.update_layout(xaxis_title='Number of Prizes',\n",
        "                    yaxis_title='Country',\n",
        "                    coloraxis_showscale=False)\n",
        "h_bar.show()"
      ],
      "execution_count": null,
      "outputs": []
    },
    {
      "cell_type": "code",
      "metadata": {
        "id": "ivVVhHa1F20p"
      },
      "source": [
        "df_countries = df_data.groupby(['birth_country_current', 'ISO'],\n",
        "                               as_index=False).agg({'prize': pd.Series.count})\n",
        "df_countries.sort_values('prize', ascending=False)"
      ],
      "execution_count": null,
      "outputs": []
    },
    {
      "cell_type": "code",
      "metadata": {
        "id": "eAFgX9_2Fz2W"
      },
      "source": [
        "world_map = px.choropleth(df_countries, locations='ISO', color='prize', hover_name='birth_country_current', color_continuous_scale=px.colors.sequential.matter)\n",
        "\n",
        "world_map.update_layout(coloraxis_showscale=True,)\n",
        "\n",
        "world_map.show()"
      ],
      "execution_count": null,
      "outputs": []
    },
    {
      "cell_type": "code",
      "metadata": {
        "id": "botUfiYDFzbL"
      },
      "source": [
        "cat_country = df_data.groupby(['birth_country_current', 'category'],\n",
        "                               as_index=False).agg({'prize': pd.Series.count})\n",
        "cat_country.sort_values(by='prize', ascending=False, inplace=True)"
      ],
      "execution_count": 42,
      "outputs": []
    },
    {
      "cell_type": "code",
      "metadata": {
        "id": "2YT8MN4sF4Hs"
      },
      "source": [
        "merged_df = pd.merge(cat_country, top20_countries, on='birth_country_current')\n",
        "merged_df.columns = ['birth_country_current', 'category', 'cat_prize', 'total_prize']\n",
        "merged_df.sort_values(by='total_prize', inplace=True)"
      ],
      "execution_count": 43,
      "outputs": []
    },
    {
      "cell_type": "code",
      "metadata": {
        "id": "4O5jNBUYF4pD"
      },
      "source": [
        "cat_cntry_bar = px.bar(x=merged_df.cat_prize,\n",
        "                       y=merged_df.birth_country_current,\n",
        "                       color=merged_df.category,\n",
        "                       orientation='h',\n",
        "                       title='Top 20 Countries by Number of Prizes and Category')\n",
        "\n",
        "cat_cntry_bar.update_layout(xaxis_title='Number of Prizes',\n",
        "                            yaxis_title='Country')\n",
        "cat_cntry_bar.show()"
      ],
      "execution_count": null,
      "outputs": []
    },
    {
      "cell_type": "code",
      "metadata": {
        "id": "18QSc3EzF43z"
      },
      "source": [
        "prize_by_year = df_data.groupby(by=['birth_country_current', 'year'], as_index=False).count()\n",
        "prize_by_year = prize_by_year.sort_values('year')[['year', 'birth_country_current', 'prize']]"
      ],
      "execution_count": 45,
      "outputs": []
    },
    {
      "cell_type": "code",
      "metadata": {
        "id": "GIiWUNoGF4ga"
      },
      "source": [
        "cumulative_prizes = prize_by_year.groupby(by=['birth_country_current', 'year']).sum().groupby(level=[0]).cumsum()\n",
        "cumulative_prizes.reset_index(inplace=True)"
      ],
      "execution_count": 46,
      "outputs": []
    },
    {
      "cell_type": "code",
      "metadata": {
        "id": "B7CgFAhiF3wv"
      },
      "source": [
        "l_chart = px.line(cumulative_prizes, x='year', y='prize', color='birth_country_current', hover_name='birth_country_current')\n",
        "l_chart.update_layout(xaxis_title='Year', yaxis_title='Number of Prizes')\n",
        "l_chart.show()"
      ],
      "execution_count": null,
      "outputs": []
    },
    {
      "cell_type": "code",
      "metadata": {
        "id": "_BuNdpmEF7wR"
      },
      "source": [
        "top20_orgs = df_data.organization_name.value_counts()[:20]\n",
        "top20_orgs.sort_values(ascending=True, inplace=True)"
      ],
      "execution_count": 48,
      "outputs": []
    },
    {
      "cell_type": "code",
      "metadata": {
        "id": "l5eYtGIXF8Mn"
      },
      "source": [
        "org_bar = px.bar(x = top20_orgs.values,\n",
        "                 y = top20_orgs.index,\n",
        "                 orientation='h',\n",
        "                 color=top20_orgs.values,\n",
        "                 color_continuous_scale=px.colors.sequential.haline,\n",
        "                 title='Top 20 Research Institutions by Number of Prizes')\n",
        "\n",
        "org_bar.update_layout(xaxis_title='Number of Prizes',\n",
        "                      yaxis_title='Institution',\n",
        "                      coloraxis_showscale=False)\n",
        "org_bar.show()"
      ],
      "execution_count": null,
      "outputs": []
    },
    {
      "cell_type": "code",
      "metadata": {
        "id": "AJO038bkF8YK"
      },
      "source": [
        "top20_org_cities = df_data.organization_city.value_counts()[:20]\n",
        "top20_org_cities.sort_values(ascending=True, inplace=True)\n",
        "city_bar2 = px.bar(x = top20_org_cities.values,\n",
        "                  y = top20_org_cities.index,\n",
        "                  orientation='h',\n",
        "                  color=top20_org_cities.values,\n",
        "                  color_continuous_scale=px.colors.sequential.Plasma,\n",
        "                  title='Which Cities Do the Most Research?')\n",
        "\n",
        "city_bar2.update_layout(xaxis_title='Number of Prizes',\n",
        "                       yaxis_title='City',\n",
        "                       coloraxis_showscale=False)\n",
        "city_bar2.show()"
      ],
      "execution_count": null,
      "outputs": []
    },
    {
      "cell_type": "code",
      "metadata": {
        "id": "8H2OTr_OF8Jh"
      },
      "source": [
        "top20_cities = df_data.birth_city.value_counts()[:20]\n",
        "top20_cities.sort_values(ascending=True, inplace=True)\n",
        "city_bar = px.bar(x=top20_cities.values,\n",
        "                  y=top20_cities.index,\n",
        "                  orientation='h',\n",
        "                  color=top20_cities.values,\n",
        "                  color_continuous_scale=px.colors.sequential.Plasma,\n",
        "                  title='Where were the Nobel Laureates Born?')\n",
        "\n",
        "city_bar.update_layout(xaxis_title='Number of Prizes',\n",
        "                       yaxis_title='City of Birth',\n",
        "                       coloraxis_showscale=False)\n",
        "city_bar.show()"
      ],
      "execution_count": null,
      "outputs": []
    },
    {
      "cell_type": "code",
      "metadata": {
        "id": "ZTbCsyRKF7yx"
      },
      "source": [
        "country_city_org = df_data.groupby(by=['organization_country',\n",
        "                                       'organization_city',\n",
        "                                       'organization_name'], as_index=False).agg({'prize': pd.Series.count})\n",
        "\n",
        "country_city_org = country_city_org.sort_values('prize', ascending=False)"
      ],
      "execution_count": 52,
      "outputs": []
    },
    {
      "cell_type": "code",
      "metadata": {
        "id": "DhE2gyZhF7oQ"
      },
      "source": [
        "burst = px.sunburst(country_city_org,\n",
        "                    path=['organization_country', 'organization_city', 'organization_name'],\n",
        "                    values='prize',\n",
        "                    title='Where do Discoveries Take Place?',\n",
        "                   )\n",
        "\n",
        "burst.update_layout(xaxis_title='Number of Prizes',\n",
        "                    yaxis_title='City',\n",
        "                    coloraxis_showscale=False)\n",
        "\n",
        "burst.show()"
      ],
      "execution_count": null,
      "outputs": []
    },
    {
      "cell_type": "code",
      "metadata": {
        "id": "VA7NVxrwF-1d"
      },
      "source": [
        "birth_years = df_data.birth_date.dt.year"
      ],
      "execution_count": 55,
      "outputs": []
    },
    {
      "cell_type": "code",
      "metadata": {
        "id": "_IWG-gi0F_O4"
      },
      "source": [
        "df_data['winning_age'] = df_data.year - birth_years"
      ],
      "execution_count": 56,
      "outputs": []
    },
    {
      "cell_type": "code",
      "metadata": {
        "id": "4wj1M8NpF_dq"
      },
      "source": [
        "display(df_data.nlargest(n=1, columns='winning_age'))\n",
        "display(df_data.nsmallest(n=1, columns='winning_age'))"
      ],
      "execution_count": null,
      "outputs": []
    },
    {
      "cell_type": "code",
      "metadata": {
        "id": "ncYD0dKCF_IK"
      },
      "source": [
        "plt.figure(figsize=(8, 4), dpi=200)\n",
        "sns.histplot(data=df_data,\n",
        "             x=df_data.winning_age,\n",
        "             bins=30)\n",
        "plt.xlabel('Age')\n",
        "plt.title('Distribution of Age on Receipt of Prize')\n",
        "plt.show()"
      ],
      "execution_count": null,
      "outputs": []
    },
    {
      "cell_type": "code",
      "metadata": {
        "id": "7tnA9YoOF_1L"
      },
      "source": [
        "plt.figure(figsize=(8,4), dpi=200)\n",
        "with sns.axes_style(\"whitegrid\"):\n",
        "    sns.regplot(data=df_data, x='year', y='winning_age', lowess=True, scatter_kws = {'alpha': 0.4}, line_kws={'color': 'black'})\n",
        "\n",
        "plt.show()"
      ],
      "execution_count": null,
      "outputs": []
    },
    {
      "cell_type": "code",
      "metadata": {
        "id": "F6B7oCPTF-sV"
      },
      "source": [
        "plt.figure(figsize=(8,4), dpi=200)\n",
        "with sns.axes_style(\"whitegrid\"):\n",
        "    sns.boxplot(data=df_data,\n",
        "                x='category',\n",
        "                y='winning_age')\n",
        "\n",
        "plt.show()"
      ],
      "execution_count": null,
      "outputs": []
    },
    {
      "cell_type": "code",
      "metadata": {
        "id": "2jdCXcqcGCxL"
      },
      "source": [
        "with sns.axes_style('whitegrid'):\n",
        "    sns.lmplot(data=df_data,\n",
        "               x='year',\n",
        "               y='winning_age',\n",
        "               row = 'category',\n",
        "               lowess=True,\n",
        "               aspect=2,\n",
        "               scatter_kws = {'alpha': 0.6},\n",
        "               line_kws = {'color': 'black'},)\n",
        "\n",
        "plt.show()"
      ],
      "execution_count": null,
      "outputs": []
    },
    {
      "cell_type": "code",
      "metadata": {
        "id": "Db3Zll65GDQd"
      },
      "source": [
        "with sns.axes_style(\"whitegrid\"):\n",
        "    sns.lmplot(data=df_data,\n",
        "               x='year',\n",
        "               y='winning_age',\n",
        "               hue='category',\n",
        "               lowess=True,\n",
        "               aspect=2,\n",
        "               scatter_kws={'alpha': 0.5},\n",
        "               line_kws={'linewidth': 5})\n",
        "\n",
        "plt.show()"
      ],
      "execution_count": null,
      "outputs": []
    }
  ]
}