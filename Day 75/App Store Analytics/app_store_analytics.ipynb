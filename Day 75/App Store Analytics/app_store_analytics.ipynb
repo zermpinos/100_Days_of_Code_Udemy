{
  "cells": [
    {
      "cell_type": "markdown",
      "metadata": {
        "id": "BBKBNy4UdiT4"
      },
      "source": [
        "# Import Statements"
      ]
    },
    {
      "cell_type": "code",
      "execution_count": 1,
      "metadata": {
        "id": "_5mfFH4_diT4"
      },
      "outputs": [],
      "source": [
        "import pandas as pd\n",
        "import plotly.express as px\n"
      ]
    },
    {
      "cell_type": "markdown",
      "metadata": {
        "id": "KegC9nPDdiT7"
      },
      "source": [
        "# Notebook Presentation"
      ]
    },
    {
      "cell_type": "code",
      "execution_count": 2,
      "metadata": {
        "id": "WPL7rhJndiT7"
      },
      "outputs": [],
      "source": [
        "# Show numeric output in decimal format e.g., 2.15\n",
        "pd.options.display.float_format = '{:,.2f}'.format"
      ]
    },
    {
      "cell_type": "markdown",
      "metadata": {
        "id": "Uc9LOZu9diT-"
      },
      "source": [
        "# Read the Dataset"
      ]
    },
    {
      "cell_type": "code",
      "execution_count": 3,
      "metadata": {
        "id": "zU0Zisv_diT-"
      },
      "outputs": [],
      "source": [
        "df_apps = pd.read_csv('apps.csv')"
      ]
    },
    {
      "cell_type": "markdown",
      "metadata": {
        "id": "iKvSUwQldiUA"
      },
      "source": [
        "# Data Cleaning"
      ]
    },
    {
      "cell_type": "code",
      "execution_count": null,
      "metadata": {
        "colab": {
          "base_uri": "https://localhost:8080/"
        },
        "id": "Ah3Vo4UEdiUB",
        "outputId": "60580c61-ac13-4653-f8cc-1b61d89a7425"
      },
      "outputs": [],
      "source": [
        "df_apps.shape"
      ]
    },
    {
      "cell_type": "code",
      "execution_count": null,
      "metadata": {
        "colab": {
          "base_uri": "https://localhost:8080/",
          "height": 447
        },
        "id": "kCGLlUHizma-",
        "outputId": "865fc9e9-72c6-4a8d-a109-d03246892a74"
      },
      "outputs": [],
      "source": [
        "df_apps.head()"
      ]
    },
    {
      "cell_type": "code",
      "execution_count": null,
      "metadata": {
        "colab": {
          "base_uri": "https://localhost:8080/",
          "height": 343
        },
        "id": "3GejxCNuzttr",
        "outputId": "5809c04e-aa29-405f-f912-cdb8cff04fe5"
      },
      "outputs": [],
      "source": [
        "df_apps.sample(5)"
      ]
    },
    {
      "cell_type": "markdown",
      "metadata": {
        "id": "Hh81sMcvdiUI"
      },
      "source": [
        "### Drop Unused Columns"
      ]
    },
    {
      "cell_type": "code",
      "execution_count": null,
      "metadata": {
        "colab": {
          "base_uri": "https://localhost:8080/",
          "height": 447
        },
        "id": "j7bXqi6zuTEJ",
        "outputId": "acbb2c97-34ef-41f1-d4c2-6dc875b1a80f"
      },
      "outputs": [],
      "source": [
        "df_apps.drop(['Last_Updated', 'Android_Ver'], axis=1, inplace=True)\n",
        "df_apps.head()"
      ]
    },
    {
      "cell_type": "markdown",
      "metadata": {
        "id": "YQGe1DIKdiUM"
      },
      "source": [
        "### Find and Remove NaN values in Ratings"
      ]
    },
    {
      "cell_type": "code",
      "execution_count": null,
      "metadata": {
        "colab": {
          "base_uri": "https://localhost:8080/",
          "height": 465
        },
        "id": "iPNNiMsTdiUM",
        "outputId": "84a2ada8-3a19-4a94-f36b-aed8310e50d2"
      },
      "outputs": [],
      "source": [
        "nan_rows = df_apps[df_apps.Rating.isna()]\n",
        "print(nan_rows.shape)\n",
        "nan_rows.head()"
      ]
    },
    {
      "cell_type": "code",
      "execution_count": null,
      "metadata": {
        "colab": {
          "base_uri": "https://localhost:8080/"
        },
        "id": "5nuCqRzXdiUO",
        "outputId": "19e49b65-5aea-4eb3-e071-affcc17f8693"
      },
      "outputs": [],
      "source": [
        "df_apps_clean = df_apps.dropna()\n",
        "df_apps_clean.shape"
      ]
    },
    {
      "cell_type": "markdown",
      "metadata": {
        "id": "pD26SWlxdiUV"
      },
      "source": [
        "### Find and Remove Duplicates\n"
      ]
    },
    {
      "cell_type": "code",
      "execution_count": null,
      "metadata": {
        "colab": {
          "base_uri": "https://localhost:8080/",
          "height": 289
        },
        "id": "V7dAU2n3diUW",
        "outputId": "4cb1c1b0-11dc-46bb-835a-078c57c68388"
      },
      "outputs": [],
      "source": [
        "duplicated_rows = df_apps_clean[df_apps_clean.duplicated()]\n",
        "print(duplicated_rows.shape)\n",
        "duplicated_rows.head()"
      ]
    },
    {
      "cell_type": "code",
      "execution_count": null,
      "metadata": {
        "colab": {
          "base_uri": "https://localhost:8080/",
          "height": 171
        },
        "id": "u4dD8XbjdiUY",
        "outputId": "a3e1f6a1-c892-45a6-db6e-0343fe6d3c2b"
      },
      "outputs": [],
      "source": [
        "df_apps_clean[df_apps_clean.App == 'Instagram']"
      ]
    },
    {
      "cell_type": "code",
      "execution_count": 12,
      "metadata": {
        "id": "tyu3StmidiUa"
      },
      "outputs": [],
      "source": [
        "df_apps_clean = df_apps_clean.drop_duplicates()"
      ]
    },
    {
      "cell_type": "code",
      "execution_count": null,
      "metadata": {
        "colab": {
          "base_uri": "https://localhost:8080/",
          "height": 141
        },
        "id": "0fO5V-mjdiUc",
        "outputId": "c5b998de-87cf-451c-d453-d0637bb70d05"
      },
      "outputs": [],
      "source": [
        "df_apps_clean[df_apps_clean.App == 'Instagram']"
      ]
    },
    {
      "cell_type": "code",
      "execution_count": null,
      "metadata": {
        "colab": {
          "base_uri": "https://localhost:8080/",
          "height": 79
        },
        "id": "jBGc5TNxdiUe",
        "outputId": "ebfd1084-777f-479b-852c-7ad586bd0cc8"
      },
      "outputs": [],
      "source": [
        "df_apps_clean = df_apps_clean.drop_duplicates(subset=['App', 'Type', 'Price'])\n",
        "df_apps_clean[df_apps_clean.App == 'Instagram']"
      ]
    },
    {
      "cell_type": "code",
      "execution_count": 15,
      "metadata": {
        "colab": {
          "base_uri": "https://localhost:8080/"
        },
        "id": "m1OSsCzXdiUf",
        "outputId": "de57575d-94ec-4cb6-a099-56ef0722ddd6"
      },
      "outputs": [
        {
          "data": {
            "text/plain": [
              "(8199, 10)"
            ]
          },
          "execution_count": 15,
          "metadata": {
            "tags": []
          },
          "output_type": "execute_result"
        }
      ],
      "source": [
        "df_apps_clean.shape"
      ]
    },
    {
      "cell_type": "markdown",
      "metadata": {
        "id": "GJrM69CfdiUh"
      },
      "source": [
        "# Find Highest Rated Apps"
      ]
    },
    {
      "cell_type": "code",
      "execution_count": null,
      "metadata": {
        "colab": {
          "base_uri": "https://localhost:8080/",
          "height": 343
        },
        "id": "Im_YQenwdiUh",
        "outputId": "db83c4ad-855f-4dd7-bc67-b96122188eca"
      },
      "outputs": [],
      "source": [
        "df_apps_clean.sort_values('Rating', ascending=False).head()"
      ]
    },
    {
      "cell_type": "markdown",
      "metadata": {
        "id": "28o1Tro4diUi"
      },
      "source": [
        "# Find 5 Largest Apps in terms of Size (MBs)"
      ]
    },
    {
      "cell_type": "code",
      "execution_count": null,
      "metadata": {
        "colab": {
          "base_uri": "https://localhost:8080/",
          "height": 0
        },
        "id": "86bttdamdiUj",
        "outputId": "018e7336-a2e8-42a3-a32c-eff61dd6961c"
      },
      "outputs": [],
      "source": [
        "df_apps_clean.sort_values('Size_MBs', ascending=False).head()"
      ]
    },
    {
      "cell_type": "markdown",
      "metadata": {
        "id": "C3gTckh7diUk"
      },
      "source": [
        "# Find the 5 App with Most Reviews"
      ]
    },
    {
      "cell_type": "code",
      "execution_count": null,
      "metadata": {
        "colab": {
          "base_uri": "https://localhost:8080/",
          "height": 0
        },
        "id": "L_EKlS3xdiUk",
        "outputId": "9109414e-1a5e-4f33-d483-ef5cb76f00c6"
      },
      "outputs": [],
      "source": [
        "df_apps_clean.sort_values('Reviews', ascending=False).head(50)"
      ]
    },
    {
      "cell_type": "markdown",
      "metadata": {
        "id": "BFoRqpezjebe"
      },
      "source": [
        "# Plotly Pie and Donut Charts - Visualise Categorical Data: Content Ratings"
      ]
    },
    {
      "cell_type": "code",
      "execution_count": null,
      "metadata": {
        "colab": {
          "base_uri": "https://localhost:8080/"
        },
        "id": "HTmxa0uWdiUm",
        "outputId": "6789e76a-b3ed-488f-b918-ac9158ce231c"
      },
      "outputs": [],
      "source": [
        "ratings = df_apps_clean.Content_Rating.value_counts()\n",
        "ratings"
      ]
    },
    {
      "cell_type": "code",
      "execution_count": null,
      "metadata": {
        "colab": {
          "base_uri": "https://localhost:8080/",
          "height": 0
        },
        "id": "qL42KaANTytb",
        "outputId": "d80c390e-967b-4455-c830-4b5d6381f0fe"
      },
      "outputs": [],
      "source": [
        "fig = px.pie(labels=ratings.index, values=ratings.values)\n",
        "\n",
        "fig.show()"
      ]
    },
    {
      "cell_type": "code",
      "execution_count": null,
      "metadata": {
        "colab": {
          "base_uri": "https://localhost:8080/",
          "height": 0
        },
        "id": "AwioMKxaeeOp",
        "outputId": "9fea18f6-8a3c-4b7a-ab01-8cca6a92331e"
      },
      "outputs": [],
      "source": [
        "fig = px.pie(labels=ratings.index, values=ratings.values, title=\"Content Rating\", names=ratings.index)\n",
        "fig.update_traces(textposition='outside', textinfo='percent+label')\n",
        "\n",
        "fig.show()"
      ]
    },
    {
      "cell_type": "code",
      "execution_count": null,
      "metadata": {
        "colab": {
          "base_uri": "https://localhost:8080/",
          "height": 0
        },
        "id": "GUd9SMjsid8H",
        "outputId": "1c3df02f-7425-4b5e-9f7a-ac8639f31d90"
      },
      "outputs": [],
      "source": [
        "fig = px.pie(labels=ratings.index, values=ratings.values, title=\"Content Rating\", names=ratings.index, hole=0.6)\n",
        "fig.update_traces(textposition='inside', textfont_size=15, textinfo='percent')\n",
        "\n",
        "fig.show()"
      ]
    },
    {
      "cell_type": "markdown",
      "metadata": {
        "id": "RoPpW37xdiUm"
      },
      "source": [
        "# Numeric Type Conversion: Examine the Number of Installs"
      ]
    },
    {
      "cell_type": "code",
      "execution_count": null,
      "metadata": {
        "colab": {
          "base_uri": "https://localhost:8080/"
        },
        "id": "aJIAZ-Uosski",
        "outputId": "9dca6f2a-d2a5-45f6-89b2-459e2c009621"
      },
      "outputs": [],
      "source": [
        "df_apps_clean.Installs.describe()"
      ]
    },
    {
      "cell_type": "code",
      "execution_count": null,
      "metadata": {
        "colab": {
          "base_uri": "https://localhost:8080/"
        },
        "id": "_tOgYTjhdiUp",
        "outputId": "69776c83-bc7d-435a-96b7-753f4220874d"
      },
      "outputs": [],
      "source": [
        "df_apps_clean.info()"
      ]
    },
    {
      "cell_type": "code",
      "execution_count": null,
      "metadata": {
        "colab": {
          "base_uri": "https://localhost:8080/",
          "height": 0
        },
        "id": "KDgwv2YUtSjz",
        "outputId": "35339c17-ad01-44a9-981b-bd35024eac65"
      },
      "outputs": [],
      "source": [
        "df_apps_clean[['App', 'Installs']].groupby('Installs').count()"
      ]
    },
    {
      "cell_type": "code",
      "execution_count": null,
      "metadata": {
        "colab": {
          "base_uri": "https://localhost:8080/",
          "height": 0
        },
        "id": "ck-13mFBuROB",
        "outputId": "695a43e8-42e5-43aa-9889-da3282683cd2"
      },
      "outputs": [],
      "source": [
        "df_apps_clean.Installs = df_apps_clean.Installs.astype(str).str.replace(',', \"\")\n",
        "df_apps_clean.Installs = pd.to_numeric(df_apps_clean.Installs)\n",
        "df_apps_clean[['App', 'Installs']].groupby('Installs').count()"
      ]
    },
    {
      "cell_type": "markdown",
      "metadata": {
        "id": "7T4sfNpFdiUv"
      },
      "source": [
        "# Find the Most Expensive Apps, Filter out the Junk, and Calculate a (ballpark) Sales Revenue Estimate\n"
      ]
    },
    {
      "cell_type": "code",
      "execution_count": null,
      "metadata": {
        "colab": {
          "base_uri": "https://localhost:8080/",
          "height": 959
        },
        "id": "6htJHLS8diUw",
        "outputId": "db13a8ab-2f60-481f-c0ba-c96654fc79fe"
      },
      "outputs": [],
      "source": [
        "df_apps_clean.Price = df_apps_clean.Price.astype(str).str.replace('$', \"\")\n",
        "df_apps_clean.Price = pd.to_numeric(df_apps_clean.Price)\n",
        "\n",
        "df_apps_clean.sort_values('Price', ascending=False).head(20)"
      ]
    },
    {
      "cell_type": "markdown",
      "metadata": {
        "id": "Rgposh-CdiU4"
      },
      "source": [
        "### The most expensive apps sub $250"
      ]
    },
    {
      "cell_type": "code",
      "execution_count": null,
      "metadata": {
        "colab": {
          "base_uri": "https://localhost:8080/",
          "height": 254
        },
        "id": "P2_hCXNodiUy",
        "outputId": "34a1ff61-5a48-412a-92bc-f9cebcc962eb"
      },
      "outputs": [],
      "source": [
        "df_apps_clean = df_apps_clean[df_apps_clean['Price'] < 250]\n",
        "df_apps_clean.sort_values('Price', ascending=False).head(5)"
      ]
    },
    {
      "cell_type": "markdown",
      "metadata": {
        "id": "VGu85CLb4OOH"
      },
      "source": [
        "### Highest Grossing Paid Apps (ballpark estimate)"
      ]
    },
    {
      "cell_type": "code",
      "execution_count": null,
      "metadata": {
        "colab": {
          "base_uri": "https://localhost:8080/",
          "height": 670
        },
        "id": "JZkGy1CI4TS-",
        "outputId": "ad60f7d2-82ae-4ba5-c211-4f99a8ed54d6"
      },
      "outputs": [],
      "source": [
        "df_apps_clean['Revenue_Estimate'] = df_apps_clean.Installs.mul(df_apps_clean.Price)\n",
        "df_apps_clean.sort_values('Revenue_Estimate', ascending=False)[:10]"
      ]
    },
    {
      "cell_type": "markdown",
      "metadata": {
        "dc": {
          "key": "18"
        },
        "id": "lvpM2MyTdiU6",
        "run_control": {
          "frozen": true
        },
        "tags": [
          "context"
        ]
      },
      "source": [
        "# Plotly Bar Charts & Scatter Plots: Analysing App Categories"
      ]
    },
    {
      "cell_type": "code",
      "execution_count": null,
      "metadata": {
        "colab": {
          "base_uri": "https://localhost:8080/"
        },
        "id": "ITYCjRM4diU6",
        "outputId": "af79bfbd-5a19-4842-a944-3afbb4bc4388"
      },
      "outputs": [],
      "source": [
        "df_apps_clean.Category.nunique()"
      ]
    },
    {
      "cell_type": "code",
      "execution_count": null,
      "metadata": {
        "colab": {
          "base_uri": "https://localhost:8080/"
        },
        "id": "WR7QVRCjdiU8",
        "outputId": "5e6db07d-3f4c-4d71-afe9-c458f6d78b4c"
      },
      "outputs": [],
      "source": [
        "top10_category = df_apps_clean.Category.value_counts()[:10]\n",
        "top10_category"
      ]
    },
    {
      "cell_type": "markdown",
      "metadata": {
        "id": "0tTurR7qdiU9"
      },
      "source": [
        "### Vertical Bar Chart - Highest Competition (Number of Apps)"
      ]
    },
    {
      "cell_type": "code",
      "execution_count": null,
      "metadata": {
        "colab": {
          "base_uri": "https://localhost:8080/",
          "height": 542
        },
        "id": "ylJyynozdiU9",
        "outputId": "72786ac0-b609-4b3a-df73-14e1fe18e59f"
      },
      "outputs": [],
      "source": [
        "bar = px.bar(x = top10_category.index, y = top10_category.values)\n",
        "\n",
        "bar.show()"
      ]
    },
    {
      "cell_type": "markdown",
      "metadata": {
        "id": "57mowetLdiU_"
      },
      "source": [
        "### Horizontal Bar Chart - Most Popular Categories (Highest Downloads)"
      ]
    },
    {
      "cell_type": "code",
      "execution_count": 33,
      "metadata": {
        "id": "7rWlQnqMdiVA"
      },
      "outputs": [],
      "source": [
        "category_installs = df_apps_clean.groupby('Category').agg({'Installs': pd.Series.sum})\n",
        "category_installs.sort_values('Installs', ascending=True, inplace=True)"
      ]
    },
    {
      "cell_type": "code",
      "execution_count": null,
      "metadata": {
        "colab": {
          "base_uri": "https://localhost:8080/",
          "height": 0
        },
        "id": "Abt1FkKt8utg",
        "outputId": "f082f770-6204-4e1e-caf6-7c3d758f7f65"
      },
      "outputs": [],
      "source": [
        "h_bar = px.bar(x = category_installs.Installs, y = category_installs.index, orientation='h', title='Category Popularity')\n",
        "h_bar.update_layout(xaxis_title='Number of Downloads', yaxis_title='Category')\n",
        "\n",
        "h_bar.show()"
      ]
    },
    {
      "cell_type": "markdown",
      "metadata": {
        "id": "Uxk24qMk8vrz"
      },
      "source": [
        "### Category Concentration - Downloads vs. Competition"
      ]
    },
    {
      "cell_type": "code",
      "execution_count": null,
      "metadata": {
        "colab": {
          "base_uri": "https://localhost:8080/",
          "height": 1000
        },
        "id": "nBQpRX9KZriy",
        "outputId": "0d0ca996-509c-43a6-bfdc-24a8fe25e755"
      },
      "outputs": [],
      "source": [
        "cat_number = df_apps_clean.groupby('Category').agg({'App': pd.Series.count})\n",
        "cat_merged_df = pd.merge(cat_number, category_installs, on='Category', how=\"inner\")\n",
        "print(f'The dimensions of the DataFrame are: {cat_merged_df.shape}')\n",
        "cat_merged_df.sort_values('Installs', ascending=False)"
      ]
    },
    {
      "cell_type": "code",
      "execution_count": null,
      "metadata": {
        "colab": {
          "base_uri": "https://localhost:8080/",
          "height": 542
        },
        "id": "FTZ98Jii8vMa",
        "outputId": "ba865d1f-d99e-4abb-90c4-405489ea370c"
      },
      "outputs": [],
      "source": [
        "scatter = px.scatter(cat_merged_df, x='App', y='Installs', title='Category Concentration', size='App', hover_name=cat_merged_df.index, color='Installs')  \n",
        "scatter.update_layout(xaxis_title=\"Number of Apps (Lower=More Concentrated)\", yaxis_title=\"Installs\", yaxis=dict(type='log'))\n",
        "\n",
        "scatter.show()"
      ]
    },
    {
      "cell_type": "markdown",
      "metadata": {
        "id": "dmXDF75WdiVC"
      },
      "source": [
        "# Extracting Nested Data from a Column"
      ]
    },
    {
      "cell_type": "code",
      "execution_count": null,
      "metadata": {
        "colab": {
          "base_uri": "https://localhost:8080/"
        },
        "id": "aQC-vAc8diVC",
        "outputId": "29281580-2f03-4cb2-f902-0013b99ae46f"
      },
      "outputs": [],
      "source": [
        "len(df_apps_clean.Genres.unique())"
      ]
    },
    {
      "cell_type": "code",
      "execution_count": null,
      "metadata": {
        "colab": {
          "base_uri": "https://localhost:8080/"
        },
        "id": "mLAngGRvdiVE",
        "outputId": "7fe2986f-c99a-4a7f-a90f-4a417867b4ed"
      },
      "outputs": [],
      "source": [
        "df_apps_clean.Genres.value_counts().sort_values(ascending=True)[:5]"
      ]
    },
    {
      "cell_type": "code",
      "execution_count": null,
      "metadata": {
        "colab": {
          "base_uri": "https://localhost:8080/"
        },
        "id": "A_kJsd_ksaM4",
        "outputId": "3517665c-83d0-4e1d-e2cf-acc836e4f2cb"
      },
      "outputs": [],
      "source": [
        "stack = df_apps_clean.Genres.str.split(';', expand=True).stack()\n",
        "print(f'We now have a single column with shape: {stack.shape}')\n",
        "num_genres = stack.value_counts()\n",
        "print(f'Number of genres: {len(num_genres)}')"
      ]
    },
    {
      "cell_type": "markdown",
      "metadata": {
        "id": "F3zaKvfydiVI"
      },
      "source": [
        "# Colour Scales in Plotly Charts - Competition in Genres"
      ]
    },
    {
      "cell_type": "code",
      "execution_count": null,
      "metadata": {
        "colab": {
          "base_uri": "https://localhost:8080/",
          "height": 542
        },
        "id": "hxMt1vVMdiVI",
        "outputId": "23b26b8f-3d69-4b5e-c5e3-60adb9e33611"
      },
      "outputs": [],
      "source": [
        "bar = px.bar(x = num_genres.index[:15], y = num_genres.values[:15], title='Top Genres', hover_name=num_genres.index[:15], color=num_genres.values[:15], color_continuous_scale='Agsunset')\n",
        "bar.update_layout(xaxis_title='Genre', yaxis_title='Number of Apps', coloraxis_showscale=False)\n",
        "\n",
        "bar.show()"
      ]
    },
    {
      "cell_type": "markdown",
      "metadata": {
        "id": "BIWG_10PyIzL"
      },
      "source": [
        "# Grouped Bar Charts: Free vs. Paid Apps per Category"
      ]
    },
    {
      "cell_type": "code",
      "execution_count": null,
      "metadata": {
        "colab": {
          "base_uri": "https://localhost:8080/"
        },
        "id": "POYaWPP7yTk7",
        "outputId": "867494d1-5289-4e2e-e200-30ab4660551c"
      },
      "outputs": [],
      "source": [
        "df_apps_clean.Type.value_counts()"
      ]
    },
    {
      "cell_type": "code",
      "execution_count": null,
      "metadata": {
        "colab": {
          "base_uri": "https://localhost:8080/",
          "height": 0
        },
        "id": "bkYlkonDyTnU",
        "outputId": "51707cd3-e4d5-46b7-f09c-3e978297e657"
      },
      "outputs": [],
      "source": [
        "df_free_vs_paid = df_apps_clean.groupby([\"Category\", \"Type\"], as_index=False).agg({'App': pd.Series.count})\n",
        "df_free_vs_paid.sort_values('App')"
      ]
    },
    {
      "cell_type": "code",
      "execution_count": null,
      "metadata": {
        "colab": {
          "base_uri": "https://localhost:8080/",
          "height": 0
        },
        "id": "cOFILc2oyTp-",
        "outputId": "0ba41e76-1e43-4036-f8d9-f165069021de"
      },
      "outputs": [],
      "source": [
        "g_bar = px.bar(df_free_vs_paid, x='Category', y='App', title='Free vs Paid Apps by Category', color='Type', barmode='group')\n",
        "g_bar.update_layout(xaxis_title='Category', yaxis_title='Number of Apps', xaxis={'categoryorder':'total descending'}, yaxis=dict(type='log'))\n",
        "\n",
        "g_bar.show()"
      ]
    },
    {
      "cell_type": "markdown",
      "metadata": {
        "id": "nbYh2tU-VZ-i"
      },
      "source": [
        "# Plotly Box Plots: Lost Downloads for Paid Apps"
      ]
    },
    {
      "cell_type": "code",
      "execution_count": null,
      "metadata": {
        "colab": {
          "base_uri": "https://localhost:8080/",
          "height": 542
        },
        "id": "CLgg4gEA6eUe",
        "outputId": "7044cfbc-e10c-4213-9cc3-c14a038dfae7"
      },
      "outputs": [],
      "source": [
        "box = px.box(df_apps_clean, y='Installs', x='Type', color='Type', notched=True, points='all', title='How Many Downloads are Paid Apps Giving Up?')\n",
        "box.update_layout(yaxis=dict(type='log'))\n",
        "\n",
        "box.show()\n"
      ]
    },
    {
      "cell_type": "markdown",
      "metadata": {
        "id": "Xi2NaEBPVNrP"
      },
      "source": [
        "# Plotly Box Plots: Revenue by App Category"
      ]
    },
    {
      "cell_type": "code",
      "execution_count": 46,
      "metadata": {
        "id": "w6SxpLsdNxTS"
      },
      "outputs": [],
      "source": [
        "df_paid_apps = df_apps_clean[df_apps_clean['Type'] == 'Paid']"
      ]
    },
    {
      "cell_type": "code",
      "execution_count": null,
      "metadata": {
        "colab": {
          "base_uri": "https://localhost:8080/",
          "height": 542
        },
        "id": "XbCRiGJkV5zH",
        "outputId": "ac0e05d5-9cc4-4e2b-e2ac-f9d5983524bf"
      },
      "outputs": [],
      "source": [
        "box = px.box(df_paid_apps, x='Category', y='Revenue_Estimate', title='How Much Can Paid Apps Earn?')\n",
        "box.update_layout(xaxis_title='Category', yaxis_title='Paid App Ballpark Revenue', xaxis={'categoryorder':'min ascending'}, yaxis=dict(type='log'))\n",
        "\n",
        "\n",
        "box.show()"
      ]
    },
    {
      "cell_type": "markdown",
      "metadata": {
        "id": "uT32ylj4WS9B"
      },
      "source": [
        "# How Much Can You Charge? Examine Paid App Pricing Strategies by Category\n",
        "\n",
        "**Challenge**: What is the median price price for a paid app? Then compare pricing by category by creating another box plot. But this time examine the prices (instead of the revenue estimates) of the paid apps. I recommend using `{categoryorder':'max descending'}` to sort the categories."
      ]
    },
    {
      "cell_type": "code",
      "execution_count": null,
      "metadata": {
        "colab": {
          "base_uri": "https://localhost:8080/"
        },
        "id": "NElVU4k1P1S7",
        "outputId": "cc5525fd-7f7b-4fcd-c52f-fc7310bf4715"
      },
      "outputs": [],
      "source": [
        "df_paid_apps.Price.median()"
      ]
    },
    {
      "cell_type": "code",
      "execution_count": null,
      "metadata": {
        "colab": {
          "base_uri": "https://localhost:8080/",
          "height": 542
        },
        "id": "N3HpiY7xDRTd",
        "outputId": "07bcde76-c86d-43b8-ab2c-dc4b94a4cd3d"
      },
      "outputs": [],
      "source": [
        "box = px.box(df_paid_apps, x='Category', y=\"Price\", title='Price per Category')\n",
        "box.update_layout(xaxis_title='Category', yaxis_title='Paid App Price', xaxis={'categoryorder':'max descending'}, yaxis=dict(type='log'))\n",
        "\n",
        "box.show()"
      ]
    }
  ],
  "metadata": {
    "colab": {
      "name": "Google Play Store App Analytics (complete).ipynb",
      "provenance": [],
      "toc_visible": true
    },
    "kernelspec": {
      "display_name": "Python 3",
      "language": "python",
      "name": "python3"
    },
    "language_info": {
      "codemirror_mode": {
        "name": "ipython",
        "version": 3
      },
      "file_extension": ".py",
      "mimetype": "text/x-python",
      "name": "python",
      "nbconvert_exporter": "python",
      "pygments_lexer": "ipython3",
      "version": "3.7.3"
    }
  },
  "nbformat": 4,
  "nbformat_minor": 0
}
